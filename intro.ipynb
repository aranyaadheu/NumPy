{
 "cells": [
  {
   "cell_type": "markdown",
   "id": "d5c13071",
   "metadata": {},
   "source": [
    "# numpy is extremely popular python module. It is heavily used in Scientific computing. "
   ]
  },
  {
   "cell_type": "markdown",
   "id": "854832c1",
   "metadata": {},
   "source": [
    "numpy's most useful feature is n dimentional array object (a.k.a ndarry)"
   ]
  },
  {
   "cell_type": "code",
   "execution_count": null,
   "id": "e984ba17",
   "metadata": {},
   "outputs": [
    {
     "name": "stdout",
     "output_type": "stream",
     "text": [
      "28000\n",
      "8000\n"
     ]
    }
   ],
   "source": [
    "import numpy as np\n",
    "import time\n",
    "import sys\n",
    "\n",
    "l = range(1000)\n",
    "print(sys.getsizeof(5)*len(l))\n",
    "\n",
    "array = np.arange(1000)\n",
    "print(array.size*array.itemsize)\n",
    "\n",
    "# difference with python list\n",
    "# an numpy list. \n",
    "# numpy takes less bytes\n",
    "# memory usage is less in numpy\n"
   ]
  },
  {
   "cell_type": "code",
   "execution_count": 14,
   "id": "553e5a69",
   "metadata": {},
   "outputs": [
    {
     "name": "stdout",
     "output_type": "stream",
     "text": [
      "python list took:  228.21378707885742\n",
      "numpy took:  24.003982543945312\n"
     ]
    }
   ],
   "source": [
    "SIZE = 1000000\n",
    "\n",
    "l1 = range(SIZE)\n",
    "l2 = range(SIZE)\n",
    "\n",
    "a1 = np.arange(SIZE)\n",
    "a2 = np.arange(SIZE)\n",
    "\n",
    "# python list\n",
    "start = time.time()\n",
    "result = [(x+y) for x, y in zip(l1, l2)]\n",
    "print(\"python list took: \", (time.time()-start)*1000)\n",
    "\n",
    "# numpy list\n",
    "start = time.time()\n",
    "result = a1+a2 \n",
    "print(\"numpy took: \", (time.time()-start)*1000)\n",
    "\n",
    "# this shows how fast is numpy \n",
    "\n"
   ]
  },
  {
   "cell_type": "code",
   "execution_count": 15,
   "id": "d6128ccc",
   "metadata": {},
   "outputs": [
    {
     "data": {
      "text/plain": [
       "array([5, 7, 9])"
      ]
     },
     "execution_count": 15,
     "metadata": {},
     "output_type": "execute_result"
    }
   ],
   "source": [
    "a1 = np.array([1,2,3])\n",
    "a2 = np.array([4,5,6])\n",
    "\n",
    "a1+a2 "
   ]
  },
  {
   "cell_type": "code",
   "execution_count": 16,
   "id": "a2abdea6",
   "metadata": {},
   "outputs": [
    {
     "data": {
      "text/plain": [
       "array([3, 3, 3])"
      ]
     },
     "execution_count": 16,
     "metadata": {},
     "output_type": "execute_result"
    }
   ],
   "source": [
    "a2-a1"
   ]
  },
  {
   "cell_type": "code",
   "execution_count": 18,
   "id": "8ec35ad9",
   "metadata": {},
   "outputs": [
    {
     "data": {
      "text/plain": [
       "array([ 4, 10, 18])"
      ]
     },
     "execution_count": 18,
     "metadata": {},
     "output_type": "execute_result"
    }
   ],
   "source": [
    "a1*a2 "
   ]
  },
  {
   "cell_type": "code",
   "execution_count": 19,
   "id": "332849cb",
   "metadata": {},
   "outputs": [
    {
     "data": {
      "text/plain": [
       "array([0.25, 0.4 , 0.5 ])"
      ]
     },
     "execution_count": 19,
     "metadata": {},
     "output_type": "execute_result"
    }
   ],
   "source": [
    "a1/a2"
   ]
  }
 ],
 "metadata": {
  "kernelspec": {
   "display_name": "Python 3",
   "language": "python",
   "name": "python3"
  },
  "language_info": {
   "codemirror_mode": {
    "name": "ipython",
    "version": 3
   },
   "file_extension": ".py",
   "mimetype": "text/x-python",
   "name": "python",
   "nbconvert_exporter": "python",
   "pygments_lexer": "ipython3",
   "version": "3.13.1"
  }
 },
 "nbformat": 4,
 "nbformat_minor": 5
}
